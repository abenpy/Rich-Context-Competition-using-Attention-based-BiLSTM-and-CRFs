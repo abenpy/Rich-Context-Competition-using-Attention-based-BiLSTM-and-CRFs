{
 "cells": [
  {
   "cell_type": "code",
   "execution_count": 2,
   "metadata": {},
   "outputs": [],
   "source": [
    "## to do:\n",
    "## for every paper:\n",
    "## 1. take only from abstract -- can't apply: papers with no abstract, e.g. 176\n",
    "## 2. break up into sections: abstract, introduction, methods, results, discussion, conclussion, references\n",
    "        ## lines with less than 5 char\n",
    "        ## new paragraph symbol: \\x0c\n",
    "## 3. remove new line symbols;\n",
    "## 4. break up into sentences in each sentence\n",
    "## 5. match mention lists\n",
    "## 6. tokenize\n",
    "## 6. tag other words\n",
    "\n",
    "## output - columns: sentence number, words, POS, tag, case sequence\n",
    "import pandas as pd\n",
    "import numpy as np\n",
    "import re\n",
    "import nltk\n",
    "from nltk import tokenize\n",
    "import json\n",
    "# nltk.download('averaged_perceptron_tagger')\n",
    "import glob\n",
    "import os\n",
    "import sys\n",
    "import string"
   ]
  },
  {
   "cell_type": "code",
   "execution_count": 3,
   "metadata": {},
   "outputs": [],
   "source": [
    "# data_path = sys.argv[0]\n",
    "# data_path = \"../data/input/\"\n",
    "data_path = \"../../train_test/\""
   ]
  },
  {
   "cell_type": "code",
   "execution_count": null,
   "metadata": {},
   "outputs": [],
   "source": []
  },
  {
   "cell_type": "code",
   "execution_count": 4,
   "metadata": {},
   "outputs": [],
   "source": [
    "# all_files = glob.glob('files/text/*.txt')\n",
    "# all_files.sort()\n",
    "# # all_files\n",
    "with open(data_path+'/publications.json') as f:\n",
    "    sample_dict = json.load(f)\n",
    "filehandles = [str(i['publication_id']) for i in sample_dict]\n",
    "# filehandles"
   ]
  },
  {
   "cell_type": "code",
   "execution_count": null,
   "metadata": {},
   "outputs": [],
   "source": [
    "# labels_df.loc[labels_df['publication_id'] == int(handle)]['mention_list'] "
   ]
  },
  {
   "cell_type": "code",
   "execution_count": null,
   "metadata": {},
   "outputs": [],
   "source": [
    "# handle = '105'\n",
    "# with open(data_path+'/files/text/'+handle+'.txt', 'r') as f:\n",
    "#     txt_test_raw = f.read()\n",
    "# print(\"Processing:\", handle)\n",
    "# txt_test_parsed = [i for i in txt_test_raw.split('\\x0c')]\n",
    "# txt_test_rm_paragraph = ''.join(txt_test_parsed)\n",
    "# txt_test_connect_word = txt_test_rm_paragraph.replace('-\\n', '')\n",
    "# txt_test_connect_word\n",
    "# # txt_test_parsed_filter = [i for i in txt_test_rm_paragraph.split('\\n') if len(i)>3]\n",
    "# # txt_test_parsed_concat = ' '.join(txt_test_parsed_filter)\n",
    "# # txt_test_sentences = tokenize.sent_tokenize(txt_test_parsed_concat)\n",
    "# # tokenizer = tokenize.RegexpTokenizer(r'\\w+')\n",
    "# # txt_tokenize = [tokenizer.tokenize(i) for i in txt_test_sentences]"
   ]
  },
  {
   "cell_type": "code",
   "execution_count": null,
   "metadata": {},
   "outputs": [],
   "source": [
    "# sent_len = [len(i) for i in txt_tokenize]"
   ]
  },
  {
   "cell_type": "code",
   "execution_count": null,
   "metadata": {},
   "outputs": [],
   "source": [
    "# print(np.mean(sent_len), np.std(sent_len), np.median(sent_len))"
   ]
  },
  {
   "cell_type": "code",
   "execution_count": 5,
   "metadata": {},
   "outputs": [
    {
     "data": {
      "text/plain": [
       "38671990"
      ]
     },
     "execution_count": 5,
     "metadata": {},
     "output_type": "execute_result"
    }
   ],
   "source": [
    "df_concat = pd.read_csv('../../train_test/df_concat.csv')\n",
    "len(df_concat)"
   ]
  },
  {
   "cell_type": "code",
   "execution_count": 6,
   "metadata": {},
   "outputs": [],
   "source": [
    "df_sentence_len = df_concat.groupby(['Sentence_ID']).agg(['count'])\n"
   ]
  },
  {
   "cell_type": "code",
   "execution_count": 26,
   "metadata": {},
   "outputs": [
    {
     "data": {
      "text/plain": [
       "1913592"
      ]
     },
     "execution_count": 26,
     "metadata": {},
     "output_type": "execute_result"
    }
   ],
   "source": [
    "sent_len = np.array(df_sentence_len.iloc[:,0])\n",
    "len(sent_len)"
   ]
  },
  {
   "cell_type": "code",
   "execution_count": 20,
   "metadata": {},
   "outputs": [],
   "source": [
    "sent_len_filter = sent_len[sent_len<200]"
   ]
  },
  {
   "cell_type": "code",
   "execution_count": 27,
   "metadata": {},
   "outputs": [],
   "source": [
    "sent_len_clip = [i if i <= 200 else 200 for i in sent_len]"
   ]
  },
  {
   "cell_type": "code",
   "execution_count": 12,
   "metadata": {},
   "outputs": [],
   "source": [
    "import matplotlib.pyplot as plt\n",
    "%matplotlib inline\n"
   ]
  },
  {
   "cell_type": "code",
   "execution_count": 32,
   "metadata": {},
   "outputs": [
    {
     "data": {
      "image/png": "[encoded data removed]",
      "text/plain": [
       "<Figure size 432x288 with 1 Axes>"
      ]
     },
     "metadata": {
      "needs_background": "light"
     },
     "output_type": "display_data"
    }
   ],
   "source": [
    "plt.hist(sent_len_clip, bins=100)\n",
    "plt.axvline(x=30, color = 'black', linestyle = 'dashed', linewidth = 1)\n",
    "plt.xlabel('Sentence length')\n",
    "plt.ylabel('Count')\n",
    "plt.show()"
   ]
  },
  {
   "cell_type": "code",
   "execution_count": null,
   "metadata": {},
   "outputs": [],
   "source": [
    "# handle = '170'"
   ]
  },
  {
   "cell_type": "code",
   "execution_count": null,
   "metadata": {},
   "outputs": [],
   "source": [
    "# with open(data_path+'/files/text/'+handle+'.txt', 'r') as f:\n",
    "#     txt_test_raw = f.read()\n",
    "# print(\"Processing:\", handle)\n",
    "# txt_test_parsed = [i for i in txt_test_raw.split('\\x0c')]\n",
    "# txt_test_rm_paragraph = ''.join(txt_test_parsed)\n",
    "# txt_test_connect_word = txt_test_rm_paragraph.replace('-\\n', '- ')\n",
    "# txt_test_parsed_filter = [i for i in txt_test_connect_word.split('\\n') if len(i)>3]\n",
    "# txt_test_parsed_concat = ' '.join(txt_test_parsed_filter)\n",
    "# txt_test_sentences = tokenize.sent_tokenize(txt_test_parsed_concat)\n",
    "# mention_lists = labels_df.loc[labels_df['publication_id'] == int(handle)]['mention_list'] \n",
    "# sentence_idx = {}\n",
    "# for mention_list in mention_lists:\n",
    "#     if mention_list == []:\n",
    "#         continue\n",
    "#     else:\n",
    "#         for phrase in mention_list:\n",
    "#             sentence_idx[phrase] = [txt_test_sentences.index(s) for s in txt_test_sentences if phrase in s]\n",
    "# mention_sentences_id = list(set([x for y in sentence_idx.values() for x in y]))\n",
    "# mention_sentences_id.sort()\n",
    "# tokenizer = tokenize.RegexpTokenizer(r'\\w+')\n",
    "# txt_tokenize = [tokenizer.tokenize(i) for i in txt_test_sentences]\n"
   ]
  },
  {
   "cell_type": "code",
   "execution_count": null,
   "metadata": {},
   "outputs": [],
   "source": [
    "# last_sentence = 0\n",
    "# last_sentence_norm = 0\n",
    "# for i in range(len(txt_tokenize)):\n",
    "#     pos_raw = nltk.pos_tag(txt_tokenize[i])\n",
    "#     pos = [i[1] for i in pos_raw]\n",
    "#     words = txt_tokenize[i]\n",
    "#     sent_count = int(np.ceil(len(words)/max_sent_len))\n",
    "#     word_ul = []\n",
    "#     for j in range(len(words)):\n",
    "#         word_ul.append(''.join(['U' if x.isupper() else 'L' for x in words[j]]))\n",
    "#     if i == 0:\n",
    "#         text_df = pd.DataFrame({\"Word_ID\": range(len(txt_tokenize[i])), \"Sentence_ID\": i+last_sentence, \n",
    "#                                 \"Word_ID_Norm\": range(len(txt_tokenize[i])), \"Sentence_ID_Norm\": i+last_sentence_norm,\n",
    "#                                 \"Pub_id\": handle, \n",
    "#                                 \"Word\": txt_tokenize[i], \"POS\": pos, \"UL\": word_ul})\n",
    "#         if sent_count > 1:\n",
    "#             for j in range(sent_count)[1:]:\n",
    "#                 sent_len = np.min([max_sent_len, text_df.shape[0]-max_sent_len*j])\n",
    "#                 text_df.iloc[j*max_sent_len+np.array(range(sent_len)), 2] = np.array(range(sent_len))\n",
    "#                 text_df.iloc[j*max_sent_len+np.array(range(sent_len)), 3] += j\n",
    "#             last_sentence_norm += j\n",
    "# #                 print(text_df)\n",
    "#         if i in mention_sentences_id:\n",
    "#             text_df['Tag'] = 'M'\n",
    "#         else:\n",
    "#             text_df['Tag'] = 'O'\n",
    "\n",
    "#     else:\n",
    "#         text_df_add = pd.DataFrame({\"Word_ID\": range(len(txt_tokenize[i])), \"Sentence_ID\": i+last_sentence, \n",
    "#                                 \"Word_ID_Norm\": range(len(txt_tokenize[i])), \"Sentence_ID_Norm\": i+last_sentence_norm,\n",
    "#                                 \"Pub_id\": handle, \n",
    "#                                 \"Word\": txt_tokenize[i], \"POS\": pos, \"UL\": word_ul})\n",
    "#         if sent_count > 1:\n",
    "#             for j in range(sent_count)[1:]:\n",
    "#                 sent_len = np.min([max_sent_len, text_df_add.shape[0]-max_sent_len*j])\n",
    "#                 text_df_add.iloc[j*max_sent_len+np.array(range(sent_len)), 2] = np.array(range(sent_len))\n",
    "#                 text_df_add.iloc[j*max_sent_len+np.array(range(sent_len)), 3] += j\n",
    "#             last_sentence_norm += j\n",
    "# #                 print(text_df_add)\n",
    "#         if i in mention_sentences_id:\n",
    "#             text_df_add['Tag'] = 'M'\n",
    "#         else:\n",
    "#             text_df_add['Tag'] = 'O'\n",
    "#         text_df = pd.concat([text_df,text_df_add], axis=0)\n"
   ]
  },
  {
   "cell_type": "code",
   "execution_count": null,
   "metadata": {},
   "outputs": [],
   "source": [
    "# mention_phrases = list(sentence_idx.keys())\n",
    "# for mention_phrase in mention_phrases:\n",
    "#     print(mention_phrase)\n",
    "#     mention_token = tokenizer.tokenize(mention_phrase)\n",
    "#     print(sentence_idx[mention_phrase])\n",
    "#     for sentence_id in sentence_idx[mention_phrase]:\n",
    "#         print(sentence_id)\n",
    "#         mentioned_sentence = list(text_df['Word'][text_df['Sentence_ID'] == sentence_id+last_sentence])\n",
    "#         print(mentioned_sentence)\n",
    "#         match_idx = []\n",
    "#         for ref_token_idx in range(len(mention_token)):\n",
    "#             for sentence_token_idx in range(len(mentioned_sentence)):\n",
    "#                 if mentioned_sentence[sentence_token_idx] == mention_token[ref_token_idx]:\n",
    "#                     match_idx.append(sentence_token_idx)\n",
    "#         match_idx = list(set(match_idx))\n",
    "#         match_idx.sort()\n",
    "#         print(match_idx)\n",
    "#         match_idx_final = []\n",
    "#         for word_idx in match_idx:\n",
    "#             if match_idx_final == []:\n",
    "#                 match_idx_final.append(word_idx)\n",
    "#             else:\n",
    "#                 if word_idx == match_idx_final[-1]+1:\n",
    "#                     match_idx_final.append(word_idx)\n",
    "#                 elif len(match_idx_final) == len(mention_token):\n",
    "#                     break\n",
    "#                 else:\n",
    "#                     match_idx_final = [word_idx]\n",
    "#         print(match_idx_final)\n",
    "#         tag = [\"B\"] + [\"I\"] * (len(match_idx_final)-1)\n",
    "#         print(tag)\n",
    "#         if len(match_idx_final)>1:\n",
    "#             text_df.loc[(text_df['Sentence_ID'] == sentence_id+last_sentence) & \n",
    "#                         (text_df['Word_ID'] >= match_idx_final[0]) & \n",
    "#                         (text_df['Word_ID'] <= match_idx_final[-1]), 'Tag'] = tag\n",
    "#             print(text_df.loc[text_df['Sentence_ID'] == sentence_id])\n",
    "\n",
    "#         elif len(match_idx_final) == 1:\n",
    "#             text_df.loc[(text_df['Sentence_ID'] == sentence_id+last_sentence) & \n",
    "#                         (text_df['Word_ID'] == match_idx_final[0]), 'Tag'] = tag   \n",
    "#             print(text_df.loc[(text_df['Sentence_ID'] == sentence_id) & \n",
    "#                         (text_df['Word_ID'] == match_idx_final[0])])"
   ]
  },
  {
   "cell_type": "code",
   "execution_count": null,
   "metadata": {},
   "outputs": [],
   "source": [
    "# text_df[text_df['Sentence_ID'] == 21]"
   ]
  },
  {
   "cell_type": "code",
   "execution_count": null,
   "metadata": {},
   "outputs": [],
   "source": [
    "# with open(data_path+'/data_set_citations.json') as f:\n",
    "with open('../rich-context-competition/evaluate/data_set_citations.json') as f:  \n",
    "    labels_raw = json.load(f)\n",
    "labels_df = pd.DataFrame(labels_raw)\n",
    "\n",
    "data_tidy_dict = {}\n",
    "last_sentence = 0\n",
    "last_sentence_norm = 0\n",
    "max_sent_len = 30\n",
    "for handle in filehandles:\n",
    "    with open(data_path+'/files/text/'+handle+'.txt', 'r') as f:\n",
    "        txt_test_raw = f.read()\n",
    "    print(\"Processing:\", handle)\n",
    "    txt_test_parsed = [i for i in txt_test_raw.split('\\x0c')]\n",
    "    txt_test_rm_paragraph = ''.join(txt_test_parsed)\n",
    "    txt_test_connect_word = txt_test_rm_paragraph.replace('-\\n', '- ')\n",
    "    txt_test_parsed_filter = [i for i in txt_test_connect_word.split('\\n') if len(i)>3]\n",
    "    txt_test_parsed_concat = ' '.join(txt_test_parsed_filter)\n",
    "    txt_test_sentences = tokenize.sent_tokenize(txt_test_parsed_concat)\n",
    "    mention_lists = labels_df.loc[labels_df['publication_id'] == int(handle)]['mention_list'] \n",
    "    sentence_idx = {}\n",
    "    for mention_list in mention_lists:\n",
    "        if mention_list == []:\n",
    "            continue\n",
    "        else:\n",
    "            for phrase in mention_list:\n",
    "                sentence_idx[phrase] = [txt_test_sentences.index(s) for s in txt_test_sentences if phrase in s]\n",
    "    mention_sentences_id = list(set([x for y in sentence_idx.values() for x in y]))\n",
    "    mention_sentences_id.sort()\n",
    "    tokenizer = tokenize.RegexpTokenizer(r'\\w+')\n",
    "    txt_tokenize = [tokenizer.tokenize(i) for i in txt_test_sentences]\n",
    "    for i in range(len(txt_tokenize)):\n",
    "        pos_raw = nltk.pos_tag(txt_tokenize[i])\n",
    "        pos = [i[1] for i in pos_raw]\n",
    "        words = txt_tokenize[i]\n",
    "        sent_count = int(np.ceil(len(words)/max_sent_len))\n",
    "        word_ul = []\n",
    "        for j in range(len(words)):\n",
    "            word_ul.append(''.join(['U' if x.isupper() else 'L' for x in words[j]]))\n",
    "        if i == 0:\n",
    "            text_df = pd.DataFrame({\"Word_ID\": range(len(txt_tokenize[i])), \"Sentence_ID\": i+last_sentence, \n",
    "                                    \"Word_ID_Norm\": range(len(txt_tokenize[i])), \"Sentence_ID_Norm\": i+last_sentence_norm,\n",
    "                                    \"Pub_id\": handle, \n",
    "                                    \"Word\": txt_tokenize[i], \"POS\": pos, \"UL\": word_ul})\n",
    "            if sent_count > 1:\n",
    "                for j in range(sent_count)[1:]:\n",
    "                    sent_len = np.min([max_sent_len, text_df.shape[0]-max_sent_len*j])\n",
    "                    text_df.iloc[j*max_sent_len+np.array(range(sent_len)), 2] = np.array(range(sent_len))\n",
    "                    text_df.iloc[j*max_sent_len+np.array(range(sent_len)), 3] += j\n",
    "                last_sentence_norm += j\n",
    "#                 print(text_df)\n",
    "            if i in mention_sentences_id:\n",
    "                text_df['Tag'] = 'M'\n",
    "            else:\n",
    "                text_df['Tag'] = 'O'\n",
    "        \n",
    "        else:\n",
    "            text_df_add = pd.DataFrame({\"Word_ID\": range(len(txt_tokenize[i])), \"Sentence_ID\": i+last_sentence, \n",
    "                                    \"Word_ID_Norm\": range(len(txt_tokenize[i])), \"Sentence_ID_Norm\": i+last_sentence_norm,\n",
    "                                    \"Pub_id\": handle, \n",
    "                                    \"Word\": txt_tokenize[i], \"POS\": pos, \"UL\": word_ul})\n",
    "            if sent_count > 1:\n",
    "                for j in range(sent_count)[1:]:\n",
    "                    sent_len = np.min([max_sent_len, text_df_add.shape[0]-max_sent_len*j])\n",
    "                    text_df_add.iloc[j*max_sent_len+np.array(range(sent_len)), 2] = np.array(range(sent_len))\n",
    "                    text_df_add.iloc[j*max_sent_len+np.array(range(sent_len)), 3] += j\n",
    "                last_sentence_norm += j\n",
    "#                 print(text_df_add)\n",
    "            if i in mention_sentences_id:\n",
    "                text_df_add['Tag'] = 'M'\n",
    "            else:\n",
    "                text_df_add['Tag'] = 'O'\n",
    "            text_df = pd.concat([text_df,text_df_add], axis=0)\n",
    "    mention_phrases = list(sentence_idx.keys())\n",
    "    for mention_phrase in mention_phrases:\n",
    "        mention_token = tokenizer.tokenize(mention_phrase)\n",
    "        for sentence_id in sentence_idx[mention_phrase]:\n",
    "#             print(sentence_id)\n",
    "            mentioned_sentence = list(text_df['Word'][text_df['Sentence_ID'] == sentence_id+last_sentence])\n",
    "#             print(mentioned_sentence)\n",
    "            match_idx = []\n",
    "            for ref_token_idx in range(len(mention_token)):\n",
    "                for sentence_token_idx in range(len(mentioned_sentence)):\n",
    "                    if mentioned_sentence[sentence_token_idx] == mention_token[ref_token_idx]:\n",
    "                        match_idx.append(sentence_token_idx)\n",
    "            match_idx = list(set(match_idx))\n",
    "            match_idx.sort()\n",
    "#             print(match_idx)\n",
    "            match_idx_final = []\n",
    "            for word_idx in match_idx:\n",
    "                if match_idx_final == []:\n",
    "                    match_idx_final.append(word_idx)\n",
    "                else:\n",
    "                    if word_idx == match_idx_final[-1]+1:\n",
    "                        match_idx_final.append(word_idx)\n",
    "                    elif len(match_idx_final) == len(mention_token):\n",
    "                        break\n",
    "                    else:\n",
    "                        match_idx_final = [word_idx]\n",
    "#             print(match_idx_final)\n",
    "            tag = [\"B\"] + [\"I\"] * (len(match_idx_final)-1)\n",
    "#             print(tag)\n",
    "            if len(match_idx_final)>1:\n",
    "    #             print(text_df.loc[text_df['Sentence_ID'] == sentence_id])\n",
    "                text_df.loc[(text_df['Sentence_ID'] == sentence_id+last_sentence) & \n",
    "                            (text_df['Word_ID'] >= match_idx_final[0]) & \n",
    "                            (text_df['Word_ID'] <= match_idx_final[-1]), 'Tag'] = tag\n",
    "            elif len(match_idx_final) == 1:\n",
    "    #             print(text_df.loc[(text_df['Sentence_ID'] == sentence_id) & \n",
    "    #                         (text_df['Word_ID'] == match_idx_final[0])])\n",
    "                text_df.loc[(text_df['Sentence_ID'] == sentence_id+last_sentence) & \n",
    "                            (text_df['Word_ID'] == match_idx_final[0]), 'Tag'] = tag     \n",
    "    last_sentence = text_df.iloc[-1]['Sentence_ID']+1\n",
    "    last_sentence_norm = text_df.iloc[-1]['Sentence_ID_Norm']+1\n",
    "    data_tidy_dict[handle] = text_df"
   ]
  },
  {
   "cell_type": "code",
   "execution_count": null,
   "metadata": {},
   "outputs": [],
   "source": [
    "# for key, val in data_tidy_dict.items():\n",
    "#     val.to_csv(\"files/processed/{}.csv\".format(str(key)))"
   ]
  },
  {
   "cell_type": "code",
   "execution_count": null,
   "metadata": {},
   "outputs": [],
   "source": [
    "# data_tidy_dict"
   ]
  },
  {
   "cell_type": "code",
   "execution_count": null,
   "metadata": {},
   "outputs": [],
   "source": [
    "# temp = data_tidy_dict['1033']"
   ]
  },
  {
   "cell_type": "code",
   "execution_count": null,
   "metadata": {},
   "outputs": [],
   "source": [
    "# temp[temp['Sentence_ID'] == 463]"
   ]
  },
  {
   "cell_type": "code",
   "execution_count": null,
   "metadata": {},
   "outputs": [],
   "source": [
    "  \n",
    "df_concat = pd.concat(data_tidy_dict.values(), ignore_index=True)\n",
    "\n",
    "#change noised 'M' to 'O'\n",
    "stop_words = set(nltk.corpus.stopwords.words('english')) #179 words\n",
    "st = set(string.printable)\n",
    "df_concat[\"Word\"] = df_concat[\"Word\"].apply(lambda x: '' if set(str(x)) != set(str(x)).intersection(st) else x)\n",
    "df_m = df_concat.loc[df_concat['Tag']=='M'] \n",
    "df_m = df_m.loc[~df_m['Word'].isin(stop_words)] #remove stopwords\n",
    "df_m = df_m.loc[~df_m['Word'].str.contains('\\d', regex=True,na=False)] #remove numberish strings, remain Nan still as nan\n",
    "df_m_sort = df_m.groupby(['Word']).size().nlargest(200).reset_index(name='top200')\n",
    "#drop single characters\n",
    "droplist=[]\n",
    "for i in range(df_m_sort.shape[0]):\n",
    "    word = df_m_sort.iloc[i]['Word']\n",
    "    if word.lower() in stop_words or len(word)==1:       \n",
    "        droplist.append(i)\n",
    "df_m_sort.drop(droplist,inplace=True)\n",
    "top100_indicaters = df_m_sort['Word'].values.tolist()[:100]\n",
    "print(top100_indicaters)\n",
    "\n",
    "\n",
    "\n"
   ]
  },
  {
   "cell_type": "code",
   "execution_count": null,
   "metadata": {},
   "outputs": [],
   "source": [
    "df_concat.loc[(df_concat['Tag']=='M') & (~df_concat['Word'].isin(top100_indicaters)),'Tag']='O'"
   ]
  },
  {
   "cell_type": "code",
   "execution_count": null,
   "metadata": {},
   "outputs": [],
   "source": [
    "# print(df_concat.loc[(df_concat['Word'] == 'NHANES') & (df_concat['Pub_id'] == '170')])"
   ]
  },
  {
   "cell_type": "code",
   "execution_count": null,
   "metadata": {},
   "outputs": [],
   "source": [
    "df_concat.head"
   ]
  },
  {
   "cell_type": "code",
   "execution_count": null,
   "metadata": {},
   "outputs": [],
   "source": [
    "# df_concat.loc[df_concat['Sentence_ID'].isin([2335])]"
   ]
  },
  {
   "cell_type": "code",
   "execution_count": null,
   "metadata": {},
   "outputs": [],
   "source": [
    "# df_concat.to_csv(data_path+'/df_concat.csv')\n",
    "df_concat.to_csv(data_path+'/df_concat_test.csv')"
   ]
  },
  {
   "cell_type": "code",
   "execution_count": null,
   "metadata": {},
   "outputs": [],
   "source": []
  }
 ],
 "metadata": {
  "kernelspec": {
   "display_name": "Python 3",
   "language": "python",
   "name": "python3"
  }
 },
 "nbformat": 4,
 "nbformat_minor": 2
}
